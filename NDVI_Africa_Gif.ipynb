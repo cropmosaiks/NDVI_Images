{
 "cells": [
  {
   "cell_type": "markdown",
   "id": "332d9969-6467-4e94-b8da-e65ca3f4d0ed",
   "metadata": {},
   "source": [
    "# Africa NDVI Animated Images"
   ]
  },
  {
   "cell_type": "code",
   "execution_count": 11,
   "id": "00ce5550-2f5e-44e7-935c-917dd40f397d",
   "metadata": {},
   "outputs": [],
   "source": [
    "import ee\n",
    "import geemap\n",
    "import os\n",
    "import glob"
   ]
  },
  {
   "cell_type": "code",
   "execution_count": 12,
   "id": "e9d40c94-5f42-4651-b94c-966acf97c160",
   "metadata": {},
   "outputs": [],
   "source": [
    "# Initialize google earth engine\n",
    "ee.Initialize()\n",
    "\n",
    "# Fetch a MODIS NDVI collection and select NDVI.\n",
    "img_collection = ee.ImageCollection('MODIS/006/MOD13A2').select('NDVI')\n",
    "\n",
    "# Define a mask to clip the NDVI data by.\n",
    "mask = ee.FeatureCollection('USDOS/LSIB_SIMPLE/2017').filter(ee.Filter.eq('wld_rgn', 'Africa'))\n",
    "\n",
    "# Define the regional bounds of animation frames.\n",
    "region = ee.Geometry.Polygon(\n",
    "  [[[-18.698368046353494, 38.1446395611524],\n",
    "    [-18.698368046353494, -36.16300755581617],\n",
    "    [52.229366328646506, -36.16300755581617],\n",
    "    [52.229366328646506, 38.1446395611524]]], None, False\n",
    ")"
   ]
  },
  {
   "cell_type": "code",
   "execution_count": 13,
   "id": "8082eb1a-81e5-4ee4-aae5-d67f71c86f6a",
   "metadata": {},
   "outputs": [],
   "source": [
    "# Add day-of-year (DOY) property to each image.\n",
    "def clip_and_get_day_of_year(img):\n",
    "    img = img.clip(mask)\n",
    "    doy = ee.Date(img.get('system:time_start')).getRelative('day', 'year')\n",
    "    return img.set('doy', doy)"
   ]
  },
  {
   "cell_type": "code",
   "execution_count": 14,
   "id": "4fe7f461-32e8-475a-9c3f-ca91eab2d4b8",
   "metadata": {},
   "outputs": [],
   "source": [
    "# Apply median reduction among matching DOY collections.\n",
    "def match_day_of_year_and_reduce(img):\n",
    "    doyCol = ee.ImageCollection.fromImages(img.get('doy_matches'))\n",
    "    return doyCol.reduce(ee.Reducer.median())"
   ]
  },
  {
   "cell_type": "code",
   "execution_count": 15,
   "id": "6df17c5d-800c-407d-b480-591488fce6ac",
   "metadata": {},
   "outputs": [],
   "source": [
    "img_collection = img_collection.map(clip_and_get_day_of_year)\n",
    "\n",
    "# Choose dates:  min is 2000-02-18  max is 2021-12-19\n",
    "year = 2000\n",
    "date_start = f'{str(year)}-02-18'\n",
    "date_end = f'{str(year)}-12-31'\n",
    "\n",
    "# Get a collection of distinct images by 'doy'.\n",
    "distinct_doy = img_collection.filterDate(date_start, date_end)\n",
    "\n",
    "# Define a filter that identifies which images from the complete\n",
    "# collection match the DOY from the distinct DOY collection.\n",
    "filtered = ee.Filter.equals(leftField = 'doy', rightField = 'doy')\n",
    "\n",
    "# Define a join.\n",
    "joined = ee.Join.saveAll('doy_matches')\n",
    "\n",
    "# Apply the join and convert the resulting FeatureCollection to an ImageCollection.\n",
    "join_img_collection = ee.ImageCollection(joined.apply(distinct_doy, img_collection, filtered))\n",
    "\n",
    "img_composite = join_img_collection.map(match_day_of_year_and_reduce)\n",
    "\n",
    "# Define visualization parameters.\n",
    "vis_params = {\n",
    "  'region': region,\n",
    "  'dimensions': 600,\n",
    "  'crs': 'EPSG:3857',\n",
    "  'framesPerSecond': 5,\n",
    "  'min': 0.0,\n",
    "  'max': 9000.0,\n",
    "  'palette': [\n",
    "    \"#000004FF\", \"#0B0724FF\", \"#210C4AFF\", \"#3D0965FF\", \"#56106EFF\", \"#71196EFF\", \n",
    "    \"#89226AFF\", \"#A32C61FF\", \"#BB3754FF\", \"#D14545FF\", \"#E35932FF\", \"#F1721EFF\",\n",
    "    \"#F98C0AFF\", \"#FCAA0FFF\", \"#F9C932FF\", \"#F2E865FF\", \"#FCFFA4FF\"\n",
    "  ]\n",
    "}"
   ]
  },
  {
   "cell_type": "code",
   "execution_count": 16,
   "id": "122b47b7-2bc0-443d-b5bb-a2be6aaa70dc",
   "metadata": {},
   "outputs": [],
   "source": [
    "temp_file_name = f\"animations/temp_ndvi_{str(year)}.gif\"\n",
    "file_name = f\"animations/ndvi_{str(year)}.gif\"\n",
    "index_array = img_composite.aggregate_array('system:index').getInfo()"
   ]
  },
  {
   "cell_type": "code",
   "execution_count": 17,
   "id": "423e6ed6-64c6-4659-b981-c5419356861f",
   "metadata": {},
   "outputs": [
    {
     "name": "stdout",
     "output_type": "stream",
     "text": [
      "Generating URL...\n",
      "Downloading GIF image from https://earthengine.googleapis.com/v1alpha/projects/earthengine-legacy/videoThumbnails/bab13d055c169fb93a730c9ffe251aa2-5d93ee24bbc8542cb0e69d08cb514e37:getPixels\n",
      "Please wait ...\n",
      "The GIF image has been saved to: C:\\Users\\Cullen\\OneDrive\\Documents\\CropMosaiks\\NDVI_Images\\animations\\temp_ndvi_2000.gif\n"
     ]
    }
   ],
   "source": [
    "geemap.download_ee_video(img_composite, vis_params, temp_file_name)"
   ]
  },
  {
   "cell_type": "code",
   "execution_count": 18,
   "id": "5c9ab981-5a96-4dad-bb77-83aa3b08f7ff",
   "metadata": {},
   "outputs": [],
   "source": [
    "geemap.add_text_to_gif(\n",
    "    in_gif = temp_file_name, \n",
    "    out_gif = file_name,\n",
    "    xy= ('75%', '1%'),\n",
    "    text_sequence=index_array,\n",
    "    font_type='arial.ttf',\n",
    "    font_size=20,\n",
    "    font_color='white',\n",
    "    add_progress_bar=True,\n",
    "    progress_bar_color='white',\n",
    "    progress_bar_height=5,\n",
    "    duration=200, # milliseconds per frame so 200 is 5 fps, 100 is 10 fps etc\n",
    "    loop=0\n",
    ")"
   ]
  },
  {
   "cell_type": "code",
   "execution_count": 19,
   "id": "c2953be5-9bb4-43d4-9617-e523afde5e61",
   "metadata": {},
   "outputs": [],
   "source": [
    "temp_list = glob.glob(\"animations/temp*.gif\")\n",
    "for file in temp_list:\n",
    "  os.remove(file)"
   ]
  },
  {
   "cell_type": "code",
   "execution_count": null,
   "id": "b91667e4-e2c0-4130-8286-da6cae75b780",
   "metadata": {},
   "outputs": [],
   "source": []
  }
 ],
 "metadata": {
  "kernelspec": {
   "display_name": "Python 3 (ipykernel)",
   "language": "python",
   "name": "python3"
  },
  "language_info": {
   "codemirror_mode": {
    "name": "ipython",
    "version": 3
   },
   "file_extension": ".py",
   "mimetype": "text/x-python",
   "name": "python",
   "nbconvert_exporter": "python",
   "pygments_lexer": "ipython3",
   "version": "3.9.7"
  }
 },
 "nbformat": 4,
 "nbformat_minor": 5
}
